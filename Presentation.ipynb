{
  "nbformat": 4,
  "nbformat_minor": 0,
  "metadata": {
    "colab": {
      "provenance": []
    },
    "kernelspec": {
      "name": "python3",
      "display_name": "Python 3"
    },
    "language_info": {
      "name": "python"
    }
  },
  "cells": [
    {
      "cell_type": "markdown",
      "source": [
        "`Water Collection Problem`"
      ],
      "metadata": {
        "id": "bNpVZrfvh-bd"
      }
    },
    {
      "cell_type": "markdown",
      "source": [
        "I found this cool problem which uses dynamic programming and is also pretty interesting.\n",
        "\n",
        "Imagine a landscape represented as a series of buildings of different heights, all aligned in a row. When it rains, water is collected between the buildings. The task is to calculate the total amount of rainwater that can be trapped between the buildings.\n",
        "\n",
        "Let's consider an example:\n",
        "The heights of the buildings are represented as an array, where each element of the array is the height of a building. For example, `[3, 0, 1, 3, 0, 5]` represents a row of six buildings, where the height of the first building is 3, the second is 0 (no building), and so on.\n",
        "\n",
        "Objective:\n",
        "Our objective is to calculate the total amount of water that is trapped after the rain between the buildings in this landscape.\n",
        "\n",
        "Approach to the solution:\n",
        "1. Understand the Water Trapping Logic:\n",
        "   - Water can be trapped between buildings if there are taller buildings on both sides.\n",
        "   - The amount of water trapped above each building (or empty space) is determined by the height difference between the current building and the shorter of the two tallest buildings on either side.\n",
        "\n",
        "2. Algorithm:\n",
        "   - Iterate through the array, calculating the highest building up to that point from both the left and the right.\n",
        "   - The water trapped above each building is the minimum of the highest buildings from both sides minus the height of the current building.\n",
        "   - Sum up the water trapped above each building.\n",
        "\n",
        "\n",
        "\n",
        "This problem potrays the importance of precomputation in optimization problems. It requires a good understanding of array manipulation and iterating through data structures efficiently.\n",
        "Here's a basic implementation in Python:"
      ],
      "metadata": {
        "id": "cwrB7fsciKCa"
      }
    },
    {
      "cell_type": "code",
      "source": [
        "def calculateWaterCollected(heights):\n",
        "    if not heights:\n",
        "        return 0\n",
        "\n",
        "    n = len(heights)\n",
        "    left_max = [0] * n\n",
        "    right_max = [0] * n\n",
        "    water_collected = 0\n",
        "\n",
        "    # Fill left_max\n",
        "    left_max[0] = heights[0]\n",
        "    for i in range(1, n):\n",
        "        left_max[i] = max(heights[i], left_max[i-1])\n",
        "\n",
        "    # Fill right_max\n",
        "    right_max[n-1] = heights[n-1]\n",
        "    for i in range(n-2, -1, -1):\n",
        "        right_max[i] = max(heights[i], right_max[i+1])\n",
        "\n",
        "    # Calculate trapped water\n",
        "    for i in range(n):\n",
        "        water_collected += min(left_max[i], right_max[i]) - heights[i]\n",
        "    return water_collected\n",
        "\n",
        "# Example usage\n",
        "heights = [3, 0, 1, 3, 0, 5]\n",
        "print(\"Total Water Collected:\", calculateWaterCollected(heights))\n",
        "\n"
      ],
      "metadata": {
        "colab": {
          "base_uri": "https://localhost:8080/"
        },
        "id": "pNnW6GufibfF",
        "outputId": "a8de135b-7edc-4aa6-f2a1-bc2f2078e77e"
      },
      "execution_count": 2,
      "outputs": [
        {
          "output_type": "stream",
          "name": "stdout",
          "text": [
            "Total Water Collected: 8\n"
          ]
        }
      ]
    },
    {
      "cell_type": "markdown",
      "source": [
        "Algorithmic Complexity:\n",
        "The algorithmic complexity of the \"Water Collection Problem\" solution can be analyzed in terms of time and space complexity:\n",
        "\n",
        "1. Time Complexity:\n",
        "\n",
        "   The key operations in the algorithm are the two passes through the array to calculate the `left_max` and `right_max` arrays, followed by a third pass to calculate the `water_collected`. Each of these passes takes linear time relative to the length of the input array.\n",
        "\n",
        "   Let's break it down:\n",
        "   - First pass to fill `left_max`: O(n), where n is the length of the array.\n",
        "   - Second pass to fill `right_max`: O(n).\n",
        "   - Third pass to calculate the total water collected: O(n).\n",
        "\n",
        "   Since these passes are sequential and each takes O(n) time, the overall time complexity is O(n) + O(n) + O(n), which simplifies to O(n).\n",
        "\n",
        "2. Space Complexity:\n",
        "\n",
        "   The space complexity is determined by the additional space used by the algorithm apart from the input. In this case, we are using two additional arrays, `left_max` and `right_max`, each of the same size as the input array.\n",
        "\n",
        "   - Space for `left_max`: O(n).\n",
        "   - Space for `right_max`: O(n).\n",
        "\n",
        "   Therefore, the total additional space used is O(n) + O(n), which simplifies to O(n).\n",
        "\n",
        "So, the final analysis is:\n",
        "- Time Complexity: O(n)\n",
        "- Space Complexity: O(n)\n",
        "\n",
        "This makes the algorithm quite efficient, especially for large input sizes, as both time and space complexities are linear.\n"
      ],
      "metadata": {
        "id": "HcEqkw9zkm2o"
      }
    }
  ]
}